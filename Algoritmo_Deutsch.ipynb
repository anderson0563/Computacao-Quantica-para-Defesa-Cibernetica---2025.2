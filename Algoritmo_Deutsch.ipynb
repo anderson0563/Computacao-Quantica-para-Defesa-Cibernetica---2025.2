{
  "cells": [
    {
      "cell_type": "markdown",
      "id": "7e5d320e",
      "metadata": {
        "id": "7e5d320e"
      },
      "source": [
        "# Algoritmo de Deutsch\n",
        "\n",
        "O algoritmo de Deutsch resolve o problema da paridade para o caso especial em que $n = 1.$  \n",
        "No contexto da computação quântica, esse problema às vezes é chamado de *problema de Deutsch*, e seguiremos essa nomenclatura nesta aula.\n",
        "\n",
        "Para ser preciso, a entrada é representada por uma função $f:\\Sigma \\rightarrow \\Sigma$ de um bit para um bit.  \n",
        "Existem quatro funções desse tipo:\n",
        "\n",
        "$$\n",
        "\\rule[-10mm]{0mm}{10mm}\n",
        "\\begin{array}{c|c}\n",
        "  a & f_1(a)\\\\\n",
        "  \\hline\n",
        "  0 & 0\\\\\n",
        "  1 & 0\n",
        "\\end{array}\n",
        "\\qquad\n",
        "\\begin{array}{c|c}\n",
        "  a & f_2(a)\\\\\n",
        "  \\hline\n",
        "  0 & 0\\\\\n",
        "  1 & 1\n",
        "\\end{array}\n",
        "\\qquad\n",
        "\\begin{array}{c|c}\n",
        "  a & f_3(a)\\\\\n",
        "  \\hline\n",
        "  0 & 1\\\\\n",
        "  1 & 0\n",
        "\\end{array}\n",
        "\\qquad\n",
        "\\begin{array}{c|c}\n",
        "  a & f_4(a)\\\\\n",
        "  \\hline\n",
        "  0 & 1\\\\\n",
        "  1 & 1\n",
        "\\end{array}\n",
        "$$\n",
        "\n",
        "A primeira e a última dessas funções são *constantes* e as duas do meio são *balanceadas*, o que significa que os dois valores de saída possíveis da função ocorrem o mesmo número de vezes ao variarmos as entradas.  \n",
        "O problema de Deutsch é determinar a qual dessas duas categorias a função de entrada pertence: constante ou balanceada.\n",
        "\n",
        "<Figure title=\"Problema de Deutsch\">\n",
        "  Entrada: uma função $f:\\{0,1\\}\\rightarrow\\{0,1\\}$\n",
        "</Figure>\n",
        "\n",
        "<Figure title=\"Problema de Deutsch\">\n",
        "  Saída: $0$ se $f$ for constante, $1$ se $f$ for balanceada\n",
        "</Figure>\n",
        "\n",
        "\n",
        "Se considerarmos a função de entrada $f$ no problema de Deutsch como representando acesso aleatório a uma string, estamos pensando em uma string de dois bits: $f(0)f(1).$\n",
        "\n",
        "$$\n",
        "\\begin{array}{cc}\n",
        "\\mathsf{função} & \\mathsf{string}\\\\\n",
        "\\hline\n",
        "f_1 & 00 \\\\\n",
        "f_2 & 01 \\\\\n",
        "f_3 & 10 \\\\\n",
        "f_4 & 11\n",
        "\\end{array}\n",
        "$$\n",
        "\n",
        "Visto dessa forma, o problema de Deutsch é calcular a paridade (ou, de forma equivalente, o OU-exclusivo) dos dois bits.\n",
        "\n",
        "Todo algoritmo clássico de consulta que resolva corretamente esse problema deve consultar ambos os bits: $f(0)$ e $f(1).$  \n",
        "Se descobrirmos que $f(1) = 1,$ por exemplo, a resposta ainda pode ser $0$ ou $1,$ dependendo se $f(0) = 1$ ou $f(0) = 0,$ respectivamente.  \n",
        "Todos os outros casos são semelhantes; conhecer apenas um dos dois bits não fornece informação alguma sobre a paridade deles.  \n",
        "Portanto, o circuito booleano descrito na seção anterior é o melhor que podemos fazer em termos de número de consultas necessárias para resolver esse problema.\n",
        "\n",
        "## Descrição do circuito quântico\n",
        "\n",
        "O algoritmo de Deutsch resolve o problema de Deutsch usando uma única consulta, fornecendo assim uma vantagem quantificável do quântico sobre o clássico.  \n",
        "Essa pode ser uma vantagem modesta — uma consulta em vez de duas.\n",
        "\n",
        "Aqui está um circuito quântico que descreve o algoritmo de Deutsch:\n",
        "\n",
        "![Algoritmo de Deutsch](https://upload.wikimedia.org/wikipedia/commons/8/8a/Deutsch_algorithm_circuit.svg)\n",
        "\n",
        "\n",
        "Para analisar o algoritmo de Deutsch, acompanharemos a ação do circuito acima e identificaremos os estados dos qubits nos momentos sugeridos pela figura.\n",
        "\n",
        "\n",
        "O estado inicial ($\\vert a\\rangle$) é $\\vert 1\\rangle \\vert 0 \\rangle,$ e as duas operações de Hadamard no lado esquerdo do circuito transformam esse estado em\n",
        "\n",
        "$$\n",
        "\\vert b \\rangle = \\vert - \\rangle \\vert + \\rangle\n",
        "= \\frac{1}{2} \\bigl( \\vert 0\\rangle - \\vert 1\\rangle \\bigr) \\vert 0\\rangle\n",
        "+ \\frac{1}{2} \\bigl( \\vert 0\\rangle - \\vert 1\\rangle \\bigr) \\vert 1\\rangle.\n",
        "$$\n",
        "\n",
        "(Como sempre, seguimos a convenção de ordenação de qubits do Qiskit, que coloca o qubit superior à direita e o inferior à esquerda.)\n",
        "\n",
        "Em seguida, a porta unitária $U_f$ é aplicada.  \n",
        "De acordo com a definição da porta $U_f$, o valor da função $f$ para o estado clássico do qubit superior/direito é aplicado com XOR no qubit inferior/esquerdo, o que transforma $\\vert \\pi_1\\rangle$ no estado\n",
        "\n",
        "$$\n",
        "\\vert c \\rangle\n",
        "= \\frac{1}{2} \\bigl( \\vert 0 \\oplus f(0) \\rangle - \\vert 1 \\oplus f(0) \\rangle \\bigr) \\vert 0 \\rangle\n",
        "+ \\frac{1}{2} \\bigl( \\vert 0 \\oplus f(1) \\rangle - \\vert 1 \\oplus f(1) \\rangle \\bigr) \\vert 1 \\rangle.\n",
        "$$\n",
        "\n",
        "Podemos simplificar essa expressão observando que a fórmula\n",
        "\n",
        "$$\n",
        "\\vert 0 \\oplus a\\rangle - \\vert 1 \\oplus a\\rangle = (-1)^a \\bigl( \\vert 0\\rangle - \\vert 1\\rangle \\bigr)\n",
        "$$\n",
        "\n",
        "funciona para ambos os valores possíveis $a\\in\\Sigma.$  \n",
        "Mais explicitamente, os dois casos são os seguintes:\n",
        "\n",
        "$$\n",
        "\\begin{aligned}\n",
        "\\vert 0 \\oplus 0\\rangle - \\vert 1 \\oplus 0\\rangle\n",
        "& = \\vert 0 \\rangle - \\vert 1 \\rangle\n",
        "= (-1)^0 \\bigl( \\vert 0\\rangle - \\vert 1\\rangle \\bigr)\\\\\n",
        "\\vert 0 \\oplus 1\\rangle - \\vert 1 \\oplus 1\\rangle & = \\vert 1 \\rangle - \\vert 0\\rangle\n",
        "= (-1)^1 \\bigl( \\vert 0\\rangle - \\vert 1\\rangle \\bigr)\n",
        "\\end{aligned}\n",
        "$$\n",
        "\n",
        "Assim, podemos expressar $\\vert c \\rangle$ da seguinte forma:\n",
        "\n",
        "$$\n",
        "\\begin{aligned}\n",
        "  \\vert c \\rangle\n",
        "  & = \\frac{1}{2} (-1)^{f(0)} \\bigl( \\vert 0 \\rangle - \\vert 1 \\rangle \\bigr) \\vert 0 \\rangle\n",
        "  + \\frac{1}{2} (-1)^{f(1)} \\bigl( \\vert 0 \\rangle - \\vert 1 \\rangle \\bigr) \\vert 1 \\rangle \\\\\n",
        "  & = \\vert - \\rangle \\biggl( \\frac{(-1)^{f(0)} \\vert 0\\rangle + (-1)^{f(1)} \\vert 1\\rangle}{\\sqrt{2}}\\biggr).\n",
        "\\end{aligned}\n",
        "$$\n",
        "\n",
        "Algo interessante acabou de acontecer!  \n",
        "Embora a ação da porta $U_f$ sobre estados da base padrão deixe o qubit superior/direito inalterado e aplique o valor da função no qubit inferior/esquerdo, aqui vemos que o estado do qubit superior/direito mudou (em geral), enquanto o estado do qubit inferior/esquerdo permaneceu o mesmo — especificamente no estado $\\vert - \\rangle$ antes e depois da aplicação da porta $U_f$.  \n",
        "Esse fenômeno é conhecido como *phase kickback* (retrocesso de fase), e falaremos mais sobre ele em breve.\n",
        "\n",
        "Com uma última simplificação — que é extrair o fator $(-1)^{f(0)}$ da soma — obtemos esta expressão do estado $\\vert c \\rangle$:\n",
        "\n",
        "$$\n",
        "\\begin{aligned}\n",
        "  \\vert c \\rangle\n",
        "  & = (-1)^{f(0)} \\vert - \\rangle\n",
        "      \\biggl( \\frac{\\vert 0\\rangle + (-1)^{f(0) \\oplus f(1)} \\vert 1\\rangle}{\\sqrt{2}}\\biggr) \\\\\n",
        "  & = \\begin{cases}\n",
        "        (-1)^{f(0)} \\vert - \\rangle \\vert + \\rangle & \\text{se $f(0) \\oplus f(1) = 0$}\\\\[1mm]\n",
        "        (-1)^{f(0)} \\vert - \\rangle \\vert - \\rangle & \\text{se $f(0) \\oplus f(1) = 1$}.\n",
        "      \\end{cases}\n",
        "\\end{aligned}\n",
        "$$\n",
        "\n",
        "Note que, nessa expressão, temos $f(0) \\oplus f(1)$ no expoente de $-1$ em vez de $f(1) - f(0),$ que seria o esperado de um ponto de vista puramente algébrico, mas obtemos o mesmo resultado de qualquer forma.  \n",
        "Isso ocorre porque o valor $(-1)^k$ para qualquer inteiro $k$ depende apenas de $k$ ser par ou ímpar.\n",
        "\n",
        "Aplicando o portão Hadamard final ao qubit superior, ficamos com o estado\n",
        "\n",
        "$$\n",
        "\\vert d \\rangle =\n",
        "\\begin{cases}\n",
        "  (-1)^{f(0)} \\vert - \\rangle \\vert 0 \\rangle & \\text{se $f(0) \\oplus f(1) = 0$}\\\\[1mm]\n",
        "  (-1)^{f(0)} \\vert - \\rangle \\vert 1 \\rangle & \\text{se $f(0) \\oplus f(1) = 1$},\n",
        "\\end{cases}\n",
        "$$\n",
        "\n",
        "o que leva ao resultado correto com probabilidade $1$ quando o qubit direito/superior é medido.\n",
        "\n",
        "## Observações adicionais sobre o phase kickback\n",
        "\n",
        "Antes de prosseguir, vamos analisar novamente o raciocínio acima sob um ângulo ligeiramente diferente que pode esclarecer o fenômeno do *phase kickback*.\n",
        "\n",
        "Primeiro, observe que a fórmula a seguir funciona para todas as escolhas de bits $b,c\\in\\Sigma.$\n",
        "\n",
        "$$\n",
        "\\vert b \\oplus c\\rangle = X^c \\vert b \\rangle\n",
        "$$\n",
        "\n",
        "Isso pode ser verificado testando para os dois valores possíveis $c = 0$ e $c = 1$:\n",
        "\n",
        "$$\n",
        "\\begin{aligned}\n",
        "\\vert b \\oplus 0 \\rangle & = \\vert b\\rangle = \\mathbb{I} \\vert b \\rangle = X^0 \\vert b \\rangle\\\\\n",
        "\\vert b \\oplus 1 \\rangle & = \\vert \\neg b\\rangle = X \\vert b \\rangle = X^1 \\vert b \\rangle.\n",
        "\\end{aligned}\n",
        "$$\n",
        "\n",
        "Usando essa fórmula, vemos que\n",
        "\n",
        "$$\n",
        "U_f \\bigl(\\vert b\\rangle \\vert a \\rangle\\bigr)\n",
        "= \\vert b \\oplus f(a) \\rangle \\vert a \\rangle\n",
        "= \\bigl(X^{f(a)}\\vert b \\rangle\\bigr) \\vert a \\rangle\n",
        "$$\n",
        "\n",
        "para toda escolha de bits $a,b\\in\\Sigma.$  \n",
        "Como essa fórmula é válida para $b=0$ e $b=1,$ vemos pela linearidade que\n",
        "\n",
        "$$\n",
        "U_f \\bigl( \\vert \\psi \\rangle \\vert a \\rangle \\bigr) = \\bigl(X^{f(a)}\\vert \\psi \\rangle\\bigr) \\vert a \\rangle\n",
        "$$\n",
        "\n",
        "para todo vetor de estado de qubit $\\vert \\psi\\rangle,$ e, portanto,\n",
        "\n",
        "$$\n",
        "U_f \\bigl( \\vert - \\rangle \\vert a \\rangle \\bigr) = \\bigl(X^{f(a)} \\vert - \\rangle \\bigr) \\vert a \\rangle\n",
        "= (-1)^{f(a)} \\vert - \\rangle \\vert a \\rangle.\n",
        "$$\n",
        "\n",
        "A chave que faz isso funcionar é que $X\\vert - \\rangle = - \\vert - \\rangle.$  \n",
        "Em termos matemáticos, o vetor $\\vert - \\rangle$ é um *autovetor* da matriz $X$ com *autovalor* $-1.$\n",
        "\n",
        "Discutiremos autovetores e autovalores em mais detalhes na próxima lição sobre *Estimativa de fase e fatoração*, onde o fenômeno de *phase kickback* é generalizado para outras operações unitárias.\n",
        "\n",
        "Tendo em mente que escalares flutuam livremente através de produtos tensoriais, encontramos uma maneira alternativa de raciocinar como a operação $U_f$ transforma $\\vert b \\rangle$ em $\\vert  c \\rangle$ na análise acima:\n",
        "\n",
        "$$\n",
        "\\begin{aligned}\n",
        "  \\vert c \\rangle\n",
        "  & = U_f \\bigl( \\vert - \\rangle \\vert + \\rangle \\bigr)\\\\\n",
        "  & = \\frac{1}{\\sqrt{2}} U_f \\bigl(\\vert - \\rangle \\vert 0\\rangle \\bigr)\n",
        "    + \\frac{1}{\\sqrt{2}} U_f \\bigl(\\vert - \\rangle \\vert 1\\rangle \\bigr)\\\\\n",
        "  & = \\vert - \\rangle \\biggl( \\frac{(-1)^{f(0)} \\vert 0\\rangle + (-1)^{f(1)} \\vert 1\\rangle}{\\sqrt{2}}\\biggr).\n",
        "\\end{aligned}\n",
        "$$\n"
      ]
    },
    {
      "cell_type": "markdown",
      "metadata": {
        "id": "a1b8767d"
      },
      "id": "a1b8767d",
      "source": [
        "Baseado no material da © IBM Corp., 2017-2025"
      ]
    },
    {
      "cell_type": "code",
      "source": [
        "%%capture\n",
        "!pip install qiskit qiskit-aer qiskit_ibm_runtime"
      ],
      "metadata": {
        "id": "Hv4V6rTAciaj"
      },
      "id": "Hv4V6rTAciaj",
      "execution_count": 1,
      "outputs": []
    },
    {
      "cell_type": "code",
      "source": [
        "from qiskit import QuantumCircuit, transpile\n",
        "from qiskit.visualization import plot_histogram\n",
        "from qiskit_aer import Aer, AerSimulator\n",
        "from qiskit_ibm_runtime.fake_provider import FakeTorino\n",
        "from qiskit_ibm_runtime import QiskitRuntimeService, Session, SamplerV2 as Sampler\n",
        "from typing import Optional"
      ],
      "metadata": {
        "id": "5-Zy8agApKBh"
      },
      "id": "5-Zy8agApKBh",
      "execution_count": 2,
      "outputs": []
    },
    {
      "cell_type": "code",
      "source": [
        "backend = FakeTorino()\n",
        "sampler = Sampler(backend)"
      ],
      "metadata": {
        "id": "ppyUiq2-dZti"
      },
      "id": "ppyUiq2-dZti",
      "execution_count": 3,
      "outputs": []
    },
    {
      "cell_type": "code",
      "source": [
        "def deutsch_algorithm(oracle: Optional[QuantumCircuit] = None) -> QuantumCircuit:\n",
        "    circuit = QuantumCircuit(2, 1)\n",
        "\n",
        "    circuit.x(1)\n",
        "    circuit.h([0, 1])\n",
        "\n",
        "    circuit.barrier()\n",
        "    if oracle:\n",
        "        circuit = circuit.compose(oracle)\n",
        "    circuit.barrier()\n",
        "\n",
        "    circuit.h(0)\n",
        "    circuit.measure(0, 0)\n",
        "\n",
        "    return circuit"
      ],
      "metadata": {
        "id": "CSSIvgAUdeTD"
      },
      "id": "CSSIvgAUdeTD",
      "execution_count": 4,
      "outputs": []
    },
    {
      "cell_type": "code",
      "source": [
        "def constant_0():\n",
        "    circuit = QuantumCircuit(2, 1)\n",
        "    return circuit\n",
        "\n",
        "def constant_1():\n",
        "    circuit = QuantumCircuit(2, 1)\n",
        "    circuit.x(1)\n",
        "    return circuit\n"
      ],
      "metadata": {
        "id": "Z7rYLKY7dgi1"
      },
      "id": "Z7rYLKY7dgi1",
      "execution_count": 5,
      "outputs": []
    },
    {
      "cell_type": "code",
      "source": [
        "def balanced_x():\n",
        "    circuit = QuantumCircuit(2, 1)\n",
        "    circuit.cx(0, 1)\n",
        "    return circuit\n",
        "\n",
        "def balanced_not_x():\n",
        "    circuit = QuantumCircuit(2, 1)\n",
        "    circuit.cx(0, 1)\n",
        "    circuit.x(1)\n",
        "    return circuit\n"
      ],
      "metadata": {
        "id": "gy063IJzdiTR"
      },
      "id": "gy063IJzdiTR",
      "execution_count": 6,
      "outputs": []
    },
    {
      "cell_type": "code",
      "source": [
        "for f in [\n",
        "    constant_0,\n",
        "    constant_1,\n",
        "    balanced_x,\n",
        "    balanced_not_x\n",
        "]:\n",
        "    qc = deutsch_algorithm(f())\n",
        "    result = AerSimulator().run(qc, shots=100).result()\n",
        "    counts = result.get_counts()\n",
        "    print(f.__name__, counts)\n"
      ],
      "metadata": {
        "colab": {
          "base_uri": "https://localhost:8080/"
        },
        "id": "Qg_vZ3XEdlwA",
        "outputId": "e0909403-37cc-4195-ddcf-132f05759a02"
      },
      "id": "Qg_vZ3XEdlwA",
      "execution_count": 7,
      "outputs": [
        {
          "output_type": "stream",
          "name": "stdout",
          "text": [
            "constant_0 {'0': 100}\n",
            "constant_1 {'0': 100}\n",
            "balanced_x {'1': 100}\n",
            "balanced_not_x {'1': 100}\n"
          ]
        }
      ]
    },
    {
      "cell_type": "code",
      "source": [
        "qc = deutsch_algorithm(constant_0())\n",
        "qc_transpiled = transpile(qc, backend, optimization_level=2)\n",
        "qc_job = sampler.run([qc_transpiled], shots=100)\n",
        "plot_histogram(qc_job.result()[0].data.c.get_counts())"
      ],
      "metadata": {
        "colab": {
          "base_uri": "https://localhost:8080/",
          "height": 487
        },
        "id": "T4tXp9YidqBB",
        "outputId": "7f7316d2-99c2-45a6-8556-4c164f08af29"
      },
      "id": "T4tXp9YidqBB",
      "execution_count": 8,
      "outputs": [
        {
          "output_type": "execute_result",
          "data": {
            "text/plain": [
              "<Figure size 640x480 with 1 Axes>"
            ],
            "image/png": "[encoded data removed]"
          },
          "metadata": {},
          "execution_count": 8
        }
      ]
    },
    {
      "cell_type": "code",
      "source": [
        "qc = deutsch_algorithm(constant_1())\n",
        "qc_transpiled = transpile(qc, backend, optimization_level=2)\n",
        "qc_job = sampler.run([qc_transpiled], shots=100)\n",
        "plot_histogram(qc_job.result()[0].data.c.get_counts())"
      ],
      "metadata": {
        "colab": {
          "base_uri": "https://localhost:8080/",
          "height": 487
        },
        "id": "9goAjKG7gXbf",
        "outputId": "09ee7420-248f-4323-ebd7-438f4592296c"
      },
      "id": "9goAjKG7gXbf",
      "execution_count": 9,
      "outputs": [
        {
          "output_type": "execute_result",
          "data": {
            "text/plain": [
              "<Figure size 640x480 with 1 Axes>"
            ],
            "image/png": "[encoded data removed]"
          },
          "metadata": {},
          "execution_count": 9
        }
      ]
    },
    {
      "cell_type": "code",
      "source": [
        "qc = deutsch_algorithm(balanced_x())\n",
        "qc_transpiled = transpile(qc, backend, optimization_level=2)\n",
        "qc_job = sampler.run([qc_transpiled], shots=100)\n",
        "plot_histogram(qc_job.result()[0].data.c.get_counts())"
      ],
      "metadata": {
        "colab": {
          "base_uri": "https://localhost:8080/",
          "height": 487
        },
        "id": "-xU2ZGmFgbmA",
        "outputId": "ff2ef1d4-dcde-4c60-9272-5c774b5df839"
      },
      "id": "-xU2ZGmFgbmA",
      "execution_count": 10,
      "outputs": [
        {
          "output_type": "execute_result",
          "data": {
            "text/plain": [
              "<Figure size 640x480 with 1 Axes>"
            ],
            "image/png": "[encoded data removed]"
          },
          "metadata": {},
          "execution_count": 10
        }
      ]
    },
    {
      "cell_type": "code",
      "source": [
        "qc = deutsch_algorithm(balanced_not_x())\n",
        "qc_transpiled = transpile(qc, backend, optimization_level=2)\n",
        "qc_job = sampler.run([qc_transpiled], shots=100)\n",
        "plot_histogram(qc_job.result()[0].data.c.get_counts())"
      ],
      "metadata": {
        "colab": {
          "base_uri": "https://localhost:8080/",
          "height": 487
        },
        "id": "ZsQ2kRhTgfIN",
        "outputId": "a83f013f-617d-4481-a60c-96aed67e2906"
      },
      "id": "ZsQ2kRhTgfIN",
      "execution_count": 11,
      "outputs": [
        {
          "output_type": "execute_result",
          "data": {
            "text/plain": [
              "<Figure size 640x480 with 1 Axes>"
            ],
            "image/png": "[encoded data removed]"
          },
          "metadata": {},
          "execution_count": 11
        }
      ]
    }
  ],
  "metadata": {
    "description": "A free IBM course on quantum information and computation",
    "kernelspec": {
      "display_name": "Python 3",
      "language": "python",
      "name": "python3"
    },
    "language_info": {
      "codemirror_mode": {
        "name": "ipython",
        "version": 3
      },
      "file_extension": ".py",
      "mimetype": "text/x-python",
      "name": "python",
      "nbconvert_exporter": "python",
      "pygments_lexer": "ipython3",
      "version": "3"
    },
    "title": "Deutsch's algorithm",
    "colab": {
      "provenance": []
    }
  },
  "nbformat": 4,
  "nbformat_minor": 5
}